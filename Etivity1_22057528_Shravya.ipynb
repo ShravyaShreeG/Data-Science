{
 "cells": [
  {
   "cell_type": "code",
   "execution_count": 3,
   "metadata": {},
   "outputs": [],
   "source": [
    "import matplotlib.pyplot as plt\n",
    "import numpy as np\n",
    "from sklearn import preprocessing\n",
    "import math\n",
    "import random\n",
    "from sklearn.datasets import make_classification\n",
    "from sklearn.model_selection import train_test_split\n",
    "from sklearn.linear_model import LogisticRegression\n",
    "from sklearn.model_selection import learning_curve\n",
    "from sklearn.model_selection import ShuffleSplit\n",
    "import pandas as pd\n",
    "from sklearn.neural_network import MLPClassifier"
   ]
  },
  {
   "cell_type": "markdown",
   "metadata": {},
   "source": [
    "# Task 1\n",
    "### Purpose: Describe how a perceptron can be used to classify two objects \n"
   ]
  },
  {
   "cell_type": "markdown",
   "metadata": {},
   "source": [
    "## Answer"
   ]
  },
  {
   "cell_type": "markdown",
   "metadata": {},
   "source": [
    "Perceptron is a simple linear classification model and can be used to classify 2 objects based on their features. It uses supervised learning as it requires that the output is known. For the current problem, the input space from the given dataset consists of two features. They are circumference and weight of the object. For convenience let's consider the objects as tennis and cricket balls. Our end goal is to correctly classify a new object(data point from test data) as a cricket ball or a tennis ball, based on it's features. Therefore the output space is {cricket_ball, tennis_ball}. To train the model a sample from the dataset called training data is used. Later, inorder to test the model reminder of dataset called test data is used.\n",
    "\n",
    "Let us assume linear seperabilty in the input space. This implies that when a scatter plot is created using circumference and weight, the data points should be such that a line can be drawn to divide the plane into two parts. One side(right side) of the plane should only contain cricket balls while the other side(left side) contains tennis balls. This line or the ideal linear function is called target function. Through this unknown target function objects can be classified based on which side of the line the data point lies. For example, if a point lies on the right side, it is classified as cricket ball.  Assuming this case, now all that is left is find this target function or find a linear function which approximates this target function.\n",
    "\n",
    "Perceptron uses a linear formula, h(x) = sign($\\sum_{i = 0}^{d}w_{i}x_{i}$) to create hypothesis set,where w is a weight vector and x is training data. To find an intial hypothesis, w vector is picked at random. Now perceptron checks for misclassified data points using the hypothesis(a line) on the sample data. If a misclassified point is found, weight vector- w is updated using the following formula: $w_{new} = w_{old} + y_{n}x_{n}$. This new weight is created such that new hypothesis attempts to correct the misclassified data point. This process is continued until there are no misclassified points left. Since the data is assumed to be linearly seperable, eventually the process gets to a last hypothesis where all the points are classified correctly and the iterations stop.\n",
    "\n",
    "As a final step, perceptron learning algorithm does the work of picking the final hypothesis from the hypothesis set by minimizing in-sample error(Ein). Ein depends on the error measure which in this case is binary error as it is a binary linear classification problem. Once the final hypothesis is picked, we check performance of the model by finding out-of-sample error(Eout). Small Eout shows greater approximation to the target function.  Furthermore, if Eout is closer to Ein, it shows greater generalization on the new data."
   ]
  },
  {
   "cell_type": "markdown",
   "metadata": {},
   "source": [
    "# Task 2\n",
    "Learning curves allow us to look at the impact that the size of the training data set N has on the ability to keep the difference between $E_{in}$ and $E_{out}$ small."
   ]
  },
  {
   "cell_type": "code",
   "execution_count": null,
   "metadata": {},
   "outputs": [],
   "source": [
    "import numpy as np\n",
    "import matplotlib.pyplot as plt\n",
    "from sklearn.naive_bayes import GaussianNB\n",
    "from sklearn.svm import SVC\n",
    "from sklearn.datasets import load_digits\n",
    "from sklearn.model_selection import learning_curve\n",
    "from sklearn.model_selection import ShuffleSplit\n",
    "\n",
    "\n",
    "def plot_learning_curve(estimator, title, X, y, ylim=None, cv=None,\n",
    "                        n_jobs=None, train_sizes=np.linspace(.1, 1.0, 5)):\n",
    "    \"\"\"\n",
    "    Generate a simple plot of the test and training learning curve.\n",
    "\n",
    "    Parameters\n",
    "    ----------\n",
    "    estimator : object type that implements the \"fit\" and \"predict\" methods\n",
    "        An object of that type which is cloned for each validation.\n",
    "\n",
    "    title : string\n",
    "        Title for the chart.\n",
    "\n",
    "    X : array-like, shape (n_samples, n_features)\n",
    "        Training vector, where n_samples is the number of samples and\n",
    "        n_features is the number of features.\n",
    "\n",
    "    y : array-like, shape (n_samples) or (n_samples, n_features), optional\n",
    "        Target relative to X for classification or regression;\n",
    "        None for unsupervised learning.\n",
    "\n",
    "    ylim : tuple, shape (ymin, ymax), optional\n",
    "        Defines minimum and maximum yvalues plotted.\n",
    "\n",
    "    cv : int, cross-validation generator or an iterable, optional\n",
    "        Determines the cross-validation splitting strategy.\n",
    "        Possible inputs for cv are:\n",
    "          - None, to use the default 3-fold cross-validation,\n",
    "          - integer, to specify the number of folds.\n",
    "          - :term:`CV splitter`,\n",
    "          - An iterable yielding (train, test) splits as arrays of indices.\n",
    "\n",
    "        For integer/None inputs, if ``y`` is binary or multiclass,\n",
    "        :class:`StratifiedKFold` used. If the estimator is not a classifier\n",
    "        or if ``y`` is neither binary nor multiclass, :class:`KFold` is used.\n",
    "\n",
    "        Refer :ref:`User Guide <cross_validation>` for the various\n",
    "        cross-validators that can be used here.\n",
    "\n",
    "    n_jobs : int or None, optional (default=None)\n",
    "        Number of jobs to run in parallel.\n",
    "        ``None`` means 1 unless in a :obj:`joblib.parallel_backend` context.\n",
    "        ``-1`` means using all processors. See :term:`Glossary <n_jobs>`\n",
    "        for more details.\n",
    "\n",
    "    train_sizes : array-like, shape (n_ticks,), dtype float or int\n",
    "        Relative or absolute numbers of training examples that will be used to\n",
    "        generate the learning curve. If the dtype is float, it is regarded as a\n",
    "        fraction of the maximum size of the training set (that is determined\n",
    "        by the selected validation method), i.e. it has to be within (0, 1].\n",
    "        Otherwise it is interpreted as absolute sizes of the training sets.\n",
    "        Note that for classification the number of samples usually have to\n",
    "        be big enough to contain at least one sample from each class.\n",
    "        (default: np.linspace(0.1, 1.0, 5))\n",
    "    \"\"\"\n",
    "    plt.figure()\n",
    "    #plt.title(title)\n",
    "    if ylim is not None:\n",
    "        plt.ylim(*ylim)\n",
    "    plt.xlabel(\"Training examples\")\n",
    "    plt.ylabel(\"Error\")\n",
    "    train_sizes, train_scores, test_scores = learning_curve(\n",
    "        estimator, X, y, cv=cv, n_jobs=n_jobs, train_sizes=train_sizes)\n",
    "    \n",
    "    train_errors = 1- train_scores\n",
    "    test_errors = 1-test_scores\n",
    "    \n",
    "    train_errors_mean = np.mean(train_errors, axis=1)\n",
    "    train_errors_std = np.std(train_errors, axis=1)\n",
    "    test_errors_mean = np.mean(test_errors, axis=1)\n",
    "    test_errors_std = np.std(test_errors, axis=1)\n",
    "    plt.grid()\n",
    "\n",
    "    plt.fill_between(train_sizes, train_errors_mean - train_errors_std,\n",
    "                     train_errors_mean + train_errors_std, alpha=0.1,\n",
    "                     color=\"r\")\n",
    "    plt.fill_between(train_sizes, test_errors_mean - test_errors_std,\n",
    "                     test_errors_mean + test_errors_std, alpha=0.1, color=\"g\")\n",
    "    plt.plot(train_sizes, train_errors_mean, 'o-', color=\"r\",\n",
    "             label=\"Training error\")\n",
    "    plt.plot(train_sizes, test_errors_mean, 'o-', color=\"g\",\n",
    "             label=\"Test error\")\n",
    "\n",
    "    \n",
    "    plt.legend(loc=\"best\")\n",
    "    return plt"
   ]
  },
  {
   "cell_type": "code",
   "execution_count": null,
   "metadata": {},
   "outputs": [],
   "source": [
    "data = np.loadtxt(\"Et1_Task2.csv\", delimiter=\",\")\n",
    "X = data[:,0:2]\n",
    "y=data[:,2]"
   ]
  },
  {
   "cell_type": "markdown",
   "metadata": {},
   "source": [
    "## Logistic regression learning curve"
   ]
  },
  {
   "cell_type": "code",
   "execution_count": null,
   "metadata": {},
   "outputs": [],
   "source": [
    "cv = ShuffleSplit(n_splits=25, test_size=0.2)"
   ]
  },
  {
   "cell_type": "code",
   "execution_count": null,
   "metadata": {},
   "outputs": [],
   "source": [
    "estimator = LogisticRegression(random_state=0, solver='lbfgs',multi_class='multinomial')\n",
    "plot_learning_curve(estimator, \"title\", X, y, cv=cv, n_jobs=4, train_sizes = np.linspace(0.01, .5, 5))"
   ]
  },
  {
   "cell_type": "markdown",
   "metadata": {},
   "source": [
    "## Neural net learning curves"
   ]
  },
  {
   "cell_type": "code",
   "execution_count": null,
   "metadata": {},
   "outputs": [],
   "source": [
    "estimator = MLPClassifier(solver='lbfgs', alpha=1e-5,hidden_layer_sizes=(200, 4), random_state=1)\n",
    "plot_learning_curve(estimator, \"title\", X, y, cv=cv, n_jobs=4, train_sizes = np.linspace(0.01, .5, 5))"
   ]
  },
  {
   "cell_type": "markdown",
   "metadata": {},
   "source": [
    "# Reflection\n",
    "Describe the results of the two learning curves and explain the differences in terms of what you currently understand about the relationship between $E_{in}$ and $E_{out}$ and the number of training samples, N. Provide clear explanations:\n",
    "\n",
    "- Why the training error is (generally) lower than the test error\n",
    "- Why the training error increases as the number of training samples is increased\n",
    "- Which of the two models is the more complex model"
   ]
  },
  {
   "cell_type": "markdown",
   "metadata": {},
   "source": [
    "### Answer\n"
   ]
  },
  {
   "cell_type": "markdown",
   "metadata": {},
   "source": [
    "Q1. Why the training error is (generally) lower than the test error\\\n",
    "A. Since the model is created on training data, it tries to encampass all the sample data points as much as possible. Hence this is the best case scenario for the model. Comparitively, the model will perform poorly on new unseen data than trained data. For this reason Ein is always lower than Eout. As N increases, both Ein and Eout tend to converge towards each other because of the decrease in generalization error on bigger samples.\n",
    "\n",
    "Q2. Why the training error increases as the number of training samples is increased\\\n",
    "A. As sample size increases, variablity in the data points increases. The model will have to accomodate for this added variability and hence increases the in-sample error. Intuitively we can also see that more data points leads to higher generalization and this brings certain amount of error into the model as a compromise. This increase in in-sample error is not so bad, as it eventually contributes to a lower Eout than before due to good generalization.\n",
    "\n",
    "Q3. Which of the two models is the more complex model\\\n",
    "A. Neural networks is the more complex model as the Ein is very very small showing greater approximation to target function than logistic regression. Also, the generalization error width that is |Ein - Eout| is higher showing that it has poor generalization on new data. Hence it is overfitted model. For this reason logistic regression is a better model for this data.\n",
    "\n",
    "\n"
   ]
  },
  {
   "cell_type": "markdown",
   "metadata": {},
   "source": [
    "# Task 3"
   ]
  },
  {
   "cell_type": "markdown",
   "metadata": {},
   "source": [
    "## Provided functions"
   ]
  },
  {
   "cell_type": "markdown",
   "metadata": {},
   "source": [
    "Below functions implement linear regression in a closed form (one-step solution using the pseudo-inverse)."
   ]
  },
  {
   "cell_type": "code",
   "execution_count": 7,
   "metadata": {},
   "outputs": [],
   "source": [
    "def linreg_weights(X,y):\n",
    "    '''Returns the weight vector associated with the regression line that best describes the data X,y in an MSE fashion '''\n",
    "    # add bias 1 to inputs X\n",
    "    X = np.concatenate((np.ones((X.shape[0],1)),X.reshape(X.shape[0],1)),axis=1)\n",
    "    # Calculation of weights using pseudo-inverse.\n",
    "    return np.linalg.inv((X.T.dot(X))).dot(X.T).dot(y)"
   ]
  },
  {
   "cell_type": "code",
   "execution_count": 8,
   "metadata": {},
   "outputs": [],
   "source": [
    "def linreg_predict(w,X):\n",
    "    ''' Returns a prediction y for data point X for a linear regression described by weights w '''\n",
    "    # add bias 1 to inputs X\n",
    "    X = np.concatenate((np.ones((X.shape[0],1)),X.reshape(X.shape[0],1)),axis=1)\n",
    "    \n",
    "    # Calculation of outputs given weights and data (X). \n",
    "    out=[]\n",
    "    for x in X:\n",
    "        out.append(w.T.dot(x))\n",
    "    return np.array(out)"
   ]
  },
  {
   "cell_type": "markdown",
   "metadata": {},
   "source": [
    "# Task 3a"
   ]
  },
  {
   "cell_type": "markdown",
   "metadata": {},
   "source": [
    "### Answer"
   ]
  },
  {
   "cell_type": "code",
   "execution_count": 4,
   "metadata": {},
   "outputs": [],
   "source": [
    "def calc_error(X,y):\n",
    "    #  mean squared error function for linear regression\n",
    "    weights = linreg_weights(X,y)\n",
    "    predicted_y = linreg_predict(weights,X)\n",
    "    squarederror = np.square(predicted_y - y)\n",
    "    error = np.sum(squarederror)/len(X)\n",
    "    return error\n"
   ]
  },
  {
   "cell_type": "code",
   "execution_count": 5,
   "metadata": {},
   "outputs": [],
   "source": [
    "# Loading data from csv\n",
    "data = np.loadtxt(\"Et1_Task3a.csv\", delimiter=\",\")\n",
    "X = data[:,0]\n",
    "y= data[:,1]"
   ]
  },
  {
   "cell_type": "markdown",
   "metadata": {},
   "source": [
    "### Mathematical equation for this regression model\n",
    "\n",
    "y_fun = 0.37569601 + 0.5105054*x_fun"
   ]
  },
  {
   "cell_type": "code",
   "execution_count": 9,
   "metadata": {},
   "outputs": [
    {
     "data": {
      "text/plain": [
       "<matplotlib.legend.Legend at 0x7fbd98052fd0>"
      ]
     },
     "execution_count": 9,
     "metadata": {},
     "output_type": "execute_result"
    },
    {
     "data": {
      "image/png": "[encoded data removed]",
      "text/plain": [
       "<Figure size 432x288 with 1 Axes>"
      ]
     },
     "metadata": {
      "needs_background": "light"
     },
     "output_type": "display_data"
    }
   ],
   "source": [
    "# Regression line plot\n",
    "weights = linreg_weights(X,y)\n",
    "predicted_y = linreg_predict(weights,X)\n",
    "\n",
    "plt.plot(X,predicted_y, color = 'c')\n",
    "plt.scatter(X, y, color= 'm')\n",
    "plt.xlabel(\"X- input space\")\n",
    "plt.ylabel(\"Y - output\")\n",
    "plt.legend([\"fitted regression line\", \"data points\"], loc =\"upper left\")\n",
    "  \n"
   ]
  },
  {
   "cell_type": "code",
   "execution_count": 12,
   "metadata": {},
   "outputs": [
    {
     "name": "stdout",
     "output_type": "stream",
     "text": [
      "Error from the regression model is = 0.004281801813255597\n"
     ]
    }
   ],
   "source": [
    "# Error calculation\n",
    "mse_error = calc_error(X,y)\n",
    "print(\"Error from the regression model is =\",mse_error)"
   ]
  },
  {
   "cell_type": "code",
   "execution_count": 11,
   "metadata": {},
   "outputs": [
    {
     "name": "stdout",
     "output_type": "stream",
     "text": [
      "The data point which adds the most error to error function is (0.7368421052631579, 0.8657746706245105) \n"
     ]
    }
   ],
   "source": [
    "# Analyzing errors\n",
    "error_n = abs(predicted_y - y)\n",
    "#print(\"maximum error is\",max(error_n))\n",
    "index = np.where(error_n == max(error_n))[0][0]\n",
    "#print(index)\n",
    "\n",
    "print(\"The data point which adds the most error to error function is ({}, {}) \".format(X[index],y[index]))  "
   ]
  },
  {
   "cell_type": "markdown",
   "metadata": {},
   "source": [
    "### Behaviour when an outlier is added to the data set"
   ]
  },
  {
   "cell_type": "code",
   "execution_count": 13,
   "metadata": {
    "scrolled": true
   },
   "outputs": [
    {
     "name": "stdout",
     "output_type": "stream",
     "text": [
      "[0.21052632 0.47368421 0.78947368 0.05263158 0.31578947 0.94736842\n",
      " 0.63157895 0.         0.42105263 0.57894737 0.68421053 0.36842105\n",
      " 0.84210526 0.10526316 1.         0.26315789 0.52631579 0.73684211\n",
      " 0.89473684 0.15789474 1.        ]\n",
      "[0.42601237 0.65072099 0.78482436 0.44251218 0.44466274 0.79066361\n",
      " 0.59209029 0.39156142 0.62337167 0.70118235 0.66063027 0.65121604\n",
      " 0.87641061 0.40380726 0.87522572 0.62246649 0.57909817 0.86577467\n",
      " 0.851927   0.38481615 0.5       ]\n"
     ]
    }
   ],
   "source": [
    "# Adding the outlier (1,0.5)\n",
    "X_new = np.append(X,1)\n",
    "print(X_new)\n",
    "y_new = np.append(y,0.5)\n",
    "print(y_new)\n",
    "weights_n = linreg_weights(X_new,y_new)\n",
    "predicted_y_n = linreg_predict(weights_n,X_new)"
   ]
  },
  {
   "cell_type": "code",
   "execution_count": 14,
   "metadata": {},
   "outputs": [
    {
     "data": {
      "text/plain": [
       "<matplotlib.legend.Legend at 0x7fbd8803ba00>"
      ]
     },
     "execution_count": 14,
     "metadata": {},
     "output_type": "execute_result"
    },
    {
     "data": {
      "image/png": "[encoded data removed]",
      "text/plain": [
       "<Figure size 432x288 with 1 Axes>"
      ]
     },
     "metadata": {
      "needs_background": "light"
     },
     "output_type": "display_data"
    }
   ],
   "source": [
    "# Regression line plot with outlier\n",
    "plt.plot(X_new,predicted_y_n, color = 'y')\n",
    "plt.plot(X,predicted_y, color = 'c')\n",
    "plt.scatter(X, y, color= 'm')\n",
    "\n",
    "plt.scatter(X_new, y_new, color= 'm')\n",
    "plt.scatter(1, 0.5, color=\"red\")\n",
    "\n",
    "plt.xlabel(\"X- input space\")\n",
    "plt.ylabel(\"Y - output\")\n",
    "plt.legend([\"model with outlier\", \"fitted regression line\", \"data points\"], loc =\"upper left\")\n"
   ]
  },
  {
   "cell_type": "code",
   "execution_count": 15,
   "metadata": {},
   "outputs": [
    {
     "name": "stdout",
     "output_type": "stream",
     "text": [
      "Error from the regression model with outlier is = 0.010067928192361499\n"
     ]
    }
   ],
   "source": [
    "# Error of the model with outlier\n",
    "mse_error_outlier = calc_error(X_new,y_new)\n",
    "print(\"Error from the regression model with outlier is =\",mse_error_outlier)"
   ]
  },
  {
   "cell_type": "code",
   "execution_count": 16,
   "metadata": {},
   "outputs": [
    {
     "name": "stdout",
     "output_type": "stream",
     "text": [
      "Percentage increase in error when an outlier is introduced is 135.132979793535\n"
     ]
    }
   ],
   "source": [
    "# Comparision of two models\n",
    "\n",
    "increase = ((mse_error_outlier - mse_error)*100)/mse_error\n",
    "print(\"Percentage increase in error when an outlier is introduced is\",increase)"
   ]
  },
  {
   "cell_type": "markdown",
   "metadata": {},
   "source": [
    "## Reflection\n",
    "Discuss your results and answer the following questions:\n",
    "1. Which data point adds the biggest error term to the optimised error function?\n",
    "2. How does the error contributed by this point relate to its distance from the regression line/function? \n",
    "3. How do outliers effect linear regression and why?\n",
    "4. Under what circumstances will linear regression with a squared error measure be a good model?"
   ]
  },
  {
   "cell_type": "markdown",
   "metadata": {},
   "source": [
    "1. The data point which adds the most error to error function is (0.7368421052631579, 0.8657746706245105) \n",
    "2. Since error function-MSE measures distance between actual and predicted values, the distance of the actual data point to regression line from the plot, provides error quantity for that point. Greater the distance higher is the error. \n",
    "3. Consider first model when we assume there are no outliers. Here, learning algorithm picks a regression line based on best Ein from hypothesis set. Ein depends on entire sample set. Now when an outlier is present, the previous regression model (even if present in the hypothesis set) will have higher Ein because of the outlier. But the learning algorithm picks a hypothesis(regression line) which provides the lowest Ein in that set which will return be a skewed line tilted slightly towards the outlier. \n",
    "4. MSE is a good error measure for linear regression when there are no outliers. Since the distance is squared in the function, the effect of outlier error in Ein is far worse. Similar to variance, MSE is prone to outliers. In this example, we can see that there is over 135% increase in error when 1 outlier is added.\n",
    "\n"
   ]
  },
  {
   "cell_type": "markdown",
   "metadata": {},
   "source": [
    "# Task 3b"
   ]
  },
  {
   "cell_type": "markdown",
   "metadata": {},
   "source": [
    "For regression the Mean Squared Error measure is a useful error measure. In this task we will explore how useful mean squared error is for classification. To this end:\n",
    "\n",
    "- Use the provided code to classify the provided data using the linear classification algorithm\n",
    "- Note that linear classification is implemented by putting the output of the linear regression model through the sign function"
   ]
  },
  {
   "cell_type": "markdown",
   "metadata": {},
   "source": [
    "### Answer"
   ]
  },
  {
   "cell_type": "code",
   "execution_count": null,
   "metadata": {},
   "outputs": [],
   "source": [
    "def calc_class_error(w,X,y):\n",
    "    # implement your error function for linear classification here"
   ]
  },
  {
   "cell_type": "code",
   "execution_count": null,
   "metadata": {},
   "outputs": [],
   "source": [
    "def linclass_predict(w,X):\n",
    "    # implement your linear classification algorithm here"
   ]
  },
  {
   "cell_type": "markdown",
   "metadata": {},
   "source": [
    "You may add as many cells below as you require."
   ]
  },
  {
   "cell_type": "markdown",
   "metadata": {},
   "source": [
    "# Reflection\n",
    "Describe the impact of the outlier on both models. Explain why logistic regression is less sensitive to the outlier. "
   ]
  },
  {
   "cell_type": "markdown",
   "metadata": {},
   "source": [
    "Provide your answer in this cell.."
   ]
  },
  {
   "cell_type": "markdown",
   "metadata": {},
   "source": [
    "## Demonstration of effect of outlier on logistic regression decision boundary for comparision with linear classification\n",
    "\n",
    "Below code demonstrates the effect of an outlier on the decision boundary chosen by logistic regression. You can use this code to compare the effect of outliers in a classification algorithm using mean square error as the error measure with that in a classification algorithm using log likelihood as the error measure. Moreover, below code provides some good hints for plotting the decision boundary in task 3b :-)."
   ]
  },
  {
   "cell_type": "markdown",
   "metadata": {},
   "source": [
    "Load data:"
   ]
  },
  {
   "cell_type": "code",
   "execution_count": null,
   "metadata": {},
   "outputs": [],
   "source": [
    "data = np.loadtxt(\"Et1_Task3b.csv\", delimiter=\",\")\n",
    "X = data[:,0:2]\n",
    "y=data[:,2]"
   ]
  },
  {
   "cell_type": "markdown",
   "metadata": {},
   "source": [
    "Fit model:"
   ]
  },
  {
   "cell_type": "code",
   "execution_count": null,
   "metadata": {},
   "outputs": [],
   "source": [
    "estimator = LogisticRegression(solver='lbfgs')\n",
    "estimator.fit(X,y)\n",
    "estimator.score(X,y)"
   ]
  },
  {
   "cell_type": "markdown",
   "metadata": {},
   "source": [
    "Extract weights from model:"
   ]
  },
  {
   "cell_type": "code",
   "execution_count": null,
   "metadata": {},
   "outputs": [],
   "source": [
    "w_lr = estimator.intercept_\n",
    "w_lr=np.append(w_lr, estimator.coef_)\n",
    "w_lr"
   ]
  },
  {
   "cell_type": "markdown",
   "metadata": {},
   "source": [
    "Add outlier:"
   ]
  },
  {
   "cell_type": "code",
   "execution_count": null,
   "metadata": {},
   "outputs": [],
   "source": [
    "X = np.append(X,[[-2,6]], axis=0)\n",
    "y = np.append(y,[1],axis=0)"
   ]
  },
  {
   "cell_type": "markdown",
   "metadata": {},
   "source": [
    "Fit model with outlier:"
   ]
  },
  {
   "cell_type": "code",
   "execution_count": null,
   "metadata": {},
   "outputs": [],
   "source": [
    "estimator = LogisticRegression(solver='lbfgs')\n",
    "estimator.fit(X,y)\n",
    "estimator.score(X,y)"
   ]
  },
  {
   "cell_type": "markdown",
   "metadata": {},
   "source": [
    "Extract new weight vector from model:"
   ]
  },
  {
   "cell_type": "code",
   "execution_count": null,
   "metadata": {},
   "outputs": [],
   "source": [
    "w_lr_2 = estimator.intercept_\n",
    "w_lr_2=np.append(w_lr_2, estimator.coef_)\n",
    "w_lr_2"
   ]
  },
  {
   "cell_type": "markdown",
   "metadata": {},
   "source": [
    "Plot original and new decision boundary using weight vectors. Decision boundary is defined by equation: $w_0+x_0\\cdot w_1+x_1 \\cdot w_2=0 \\rightarrow x_2 = -\\frac{w_0}{w_2}-x_1\\frac{w_1}{w_2}$"
   ]
  },
  {
   "cell_type": "code",
   "execution_count": null,
   "metadata": {},
   "outputs": [],
   "source": [
    "y_p = estimator.predict(X)\n",
    "plt.scatter(X[:, 0], X[:, 1], c=y)\n",
    "plt.plot([-2,2],[-w_lr[0]/w_lr[2]+w_lr[1]/w_lr[2]*2,-w_lr[0]/w_lr[2]-w_lr[1]/w_lr[2]*2],'b',label=\"original data\")\n",
    "plt.plot([-2,2],[-w_lr_2[0]/w_lr_2[2]+w_lr_2[1]/w_lr_2[2]*2,-w_lr_2[0]/w_lr_2[2]-w_lr_2[1]/w_lr_2[2]*2],'r',label='data with outlier')\n",
    "\n",
    "plt.title(\"Data with outlier classified with logistic regression\")\n",
    "plt.legend(loc=\"upper right\")\n",
    "plt.show()\n",
    "1-sum(abs(y_p-y))/len(y)"
   ]
  }
 ],
 "metadata": {
  "kernelspec": {
   "display_name": "Python 3 (ipykernel)",
   "language": "python",
   "name": "python3"
  },
  "language_info": {
   "codemirror_mode": {
    "name": "ipython",
    "version": 3
   },
   "file_extension": ".py",
   "mimetype": "text/x-python",
   "name": "python",
   "nbconvert_exporter": "python",
   "pygments_lexer": "ipython3",
   "version": "3.9.12"
  }
 },
 "nbformat": 4,
 "nbformat_minor": 2
}
